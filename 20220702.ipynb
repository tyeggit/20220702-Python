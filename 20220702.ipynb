{
  "nbformat": 4,
  "nbformat_minor": 0,
  "metadata": {
    "colab": {
      "name": "20220702.ipynb",
      "provenance": [],
      "toc_visible": true,
      "authorship_tag": "ABX9TyOg2Adhaz9vO5J4sspQxlF9",
      "include_colab_link": true
    },
    "kernelspec": {
      "name": "python3",
      "display_name": "Python 3"
    },
    "language_info": {
      "name": "python"
    }
  },
  "cells": [
    {
      "cell_type": "markdown",
      "metadata": {
        "id": "view-in-github",
        "colab_type": "text"
      },
      "source": [
        "<a href=\"https://colab.research.google.com/github/tyeggit/20220702-Python/blob/main/20220702.ipynb\" target=\"_parent\"><img src=\"https://colab.research.google.com/assets/colab-badge.svg\" alt=\"Open In Colab\"/></a>"
      ]
    },
    {
      "cell_type": "markdown",
      "source": [
        "# 20220702高企協人工智慧應用班\n",
        "\n",
        "#大標題\n",
        "## 中標題\n",
        "### 小標題"
      ],
      "metadata": {
        "id": "HBy-JKRV5xFT"
      }
    },
    {
      "cell_type": "code",
      "execution_count": 2,
      "metadata": {
        "colab": {
          "base_uri": "https://localhost:8080/"
        },
        "id": "mqbJMqFszC86",
        "outputId": "5eb2789e-369a-4b2f-b1ca-09fc8704033d"
      },
      "outputs": [
        {
          "output_type": "stream",
          "name": "stdout",
          "text": [
            "Hello world!\n"
          ]
        }
      ],
      "source": [
        "print(\"Hello world!\")"
      ]
    },
    {
      "cell_type": "markdown",
      "source": [
        "# 畫金字塔"
      ],
      "metadata": {
        "id": "HitdeldD6cZl"
      }
    },
    {
      "cell_type": "code",
      "source": [
        "\n",
        "for i in range(5):\n",
        "  print((5-i)*\" \"+(2*i+1)*\"*\")\n"
      ],
      "metadata": {
        "colab": {
          "base_uri": "https://localhost:8080/"
        },
        "id": "iKreTFWc6h2u",
        "outputId": "22c3fe9a-6def-4648-c33a-6221f051d5be"
      },
      "execution_count": 10,
      "outputs": [
        {
          "output_type": "stream",
          "name": "stdout",
          "text": [
            "     *\n",
            "    ***\n",
            "   *****\n",
            "  *******\n",
            " *********\n"
          ]
        }
      ]
    },
    {
      "cell_type": "code",
      "source": [
        "def pyramid(n):  \n",
        "  for i in range(n):\n",
        "   print((n-i)*\" \"+(2*i+1)*\"*\")\n",
        "\n",
        "pyramid(5) \n",
        "pyramid(8) "
      ],
      "metadata": {
        "colab": {
          "base_uri": "https://localhost:8080/"
        },
        "id": "xyXAOk6n_9c2",
        "outputId": "db6c2779-fce6-4de2-9c06-e61adbffbb30"
      },
      "execution_count": 18,
      "outputs": [
        {
          "output_type": "stream",
          "name": "stdout",
          "text": [
            "     *\n",
            "    ***\n",
            "   *****\n",
            "  *******\n",
            " *********\n",
            "        *\n",
            "       ***\n",
            "      *****\n",
            "     *******\n",
            "    *********\n",
            "   ***********\n",
            "  *************\n",
            " ***************\n"
          ]
        }
      ]
    },
    {
      "cell_type": "markdown",
      "source": [
        "# 變數"
      ],
      "metadata": {
        "id": "s1y1-6obUk4R"
      }
    },
    {
      "cell_type": "markdown",
      "source": [
        "變數名稱最好以英文字母或底線做開頭 (數字不能做\n",
        "\n",
        "開頭)\n",
        "  variable, variable, variable\n",
        "*除開頭字元外，其他字元使用數字、底線、或英文字母\n",
        "  *_var123, var_123\n",
        "*變數會區分大小寫\n",
        "*避開關鍵字 (keywords)\n",
        "*避開內建的物件 (built-in objects)"
      ],
      "metadata": {
        "id": "ovseW4yTcBYR"
      }
    },
    {
      "cell_type": "code",
      "source": [
        "x=1\n"
      ],
      "metadata": {
        "id": "R93R51y7U1Tk"
      },
      "execution_count": 19,
      "outputs": []
    },
    {
      "cell_type": "code",
      "source": [
        "#將x的記憶體位址轉換成16進位表示法\n",
        "id(x)"
      ],
      "metadata": {
        "colab": {
          "base_uri": "https://localhost:8080/"
        },
        "id": "b8EEPG1cU-FV",
        "outputId": "b7ce4a1e-fdf4-450a-c3b3-93e203d17c35"
      },
      "execution_count": 20,
      "outputs": [
        {
          "output_type": "execute_result",
          "data": {
            "text/plain": [
              "11256064"
            ]
          },
          "metadata": {},
          "execution_count": 20
        }
      ]
    },
    {
      "cell_type": "code",
      "source": [
        "#印出x的記憶體位置\n",
        "id?"
      ],
      "metadata": {
        "id": "QAteW6-5VRuo"
      },
      "execution_count": 21,
      "outputs": []
    },
    {
      "cell_type": "markdown",
      "source": [
        "# 資料型態\n",
        "\n",
        "\n",
        "*   int(整數)\n",
        "*   float(浮點數)==>有小數點\n",
        "*   bool(布林變數)==> True, False\n",
        "*   str(字串)==>用引號標住起來的文字訊息\n",
        "\n",
        "\n"
      ],
      "metadata": {
        "id": "WPkVwOc6UsPZ"
      }
    },
    {
      "cell_type": "markdown",
      "source": [
        ""
      ],
      "metadata": {
        "id": "xae2DkAUUvhW"
      }
    },
    {
      "cell_type": "code",
      "source": [
        "x=1"
      ],
      "metadata": {
        "id": "it6cmtqyXvuI"
      },
      "execution_count": 22,
      "outputs": []
    },
    {
      "cell_type": "code",
      "source": [
        "type(x)"
      ],
      "metadata": {
        "colab": {
          "base_uri": "https://localhost:8080/"
        },
        "id": "PePSbLDwYIpT",
        "outputId": "f6a3a833-a0dc-43e7-c90f-6944c66652f4"
      },
      "execution_count": 23,
      "outputs": [
        {
          "output_type": "execute_result",
          "data": {
            "text/plain": [
              "int"
            ]
          },
          "metadata": {},
          "execution_count": 23
        }
      ]
    },
    {
      "cell_type": "code",
      "source": [
        "y=2.13"
      ],
      "metadata": {
        "id": "tzMKMWcvYNnH"
      },
      "execution_count": 24,
      "outputs": []
    },
    {
      "cell_type": "code",
      "source": [
        "type(y)"
      ],
      "metadata": {
        "colab": {
          "base_uri": "https://localhost:8080/"
        },
        "id": "tSoPQxviYbHF",
        "outputId": "5092623c-f62d-4173-ad89-7e393ab68e7a"
      },
      "execution_count": 25,
      "outputs": [
        {
          "output_type": "execute_result",
          "data": {
            "text/plain": [
              "float"
            ]
          },
          "metadata": {},
          "execution_count": 25
        }
      ]
    },
    {
      "cell_type": "code",
      "source": [
        "3>2"
      ],
      "metadata": {
        "colab": {
          "base_uri": "https://localhost:8080/"
        },
        "id": "kahRkJFcYfdg",
        "outputId": "9a100601-671b-4aaf-d750-7abc3d9d20fe"
      },
      "execution_count": 26,
      "outputs": [
        {
          "output_type": "execute_result",
          "data": {
            "text/plain": [
              "True"
            ]
          },
          "metadata": {},
          "execution_count": 26
        }
      ]
    },
    {
      "cell_type": "code",
      "source": [
        "#比較3跟2(是否相等)\n",
        "3==2"
      ],
      "metadata": {
        "colab": {
          "base_uri": "https://localhost:8080/"
        },
        "id": "zYI21SggYvmb",
        "outputId": "d758cd27-6b79-488c-c932-5f5d90923770"
      },
      "execution_count": 28,
      "outputs": [
        {
          "output_type": "execute_result",
          "data": {
            "text/plain": [
              "False"
            ]
          },
          "metadata": {},
          "execution_count": 28
        }
      ]
    },
    {
      "cell_type": "code",
      "source": [
        "u = 3 == 2"
      ],
      "metadata": {
        "id": "LY331GdTZDJT"
      },
      "execution_count": 30,
      "outputs": []
    },
    {
      "cell_type": "markdown",
      "source": [
        "#使用Line Notify送訊息給自己"
      ],
      "metadata": {
        "id": "-jY9ZRv3cXL7"
      }
    },
    {
      "cell_type": "markdown",
      "source": [
        "[取得權杖](https://access.line.me/oauth2/v2.1/login?loginState=Yj1HK7Zf5FLEfs9zbDUvOK&loginChannelId=1476232700&returnUri=%2Foauth2%2Fv2.1%2Fauthorize%2Fconsent%3Fscope%3Dprofile%2Bopenid%2Bbot.add%26response_type%3Dcode%26redirect_uri%3Dhttps%253A%252F%252Fnotify-bot.line.me%252Flogin%252Fcallback%26state%3DYnsnWSPy7B1m7LHjgd7TCL%26nonce%3DtqgT9ZmJgfDIsIACd6GhY4%26client_id%3D1476232700#/)\n",
        "\n",
        "\n",
        "Line Sticker List\n",
        "\n"
      ],
      "metadata": {
        "id": "0skdDtHEe3qS"
      }
    },
    {
      "cell_type": "code",
      "source": [
        "!curl -o linenotify.py https://raw.githubusercontent.com/victorgau/khpy_linenotify_intro/main/py/linenotify.py"
      ],
      "metadata": {
        "colab": {
          "base_uri": "https://localhost:8080/"
        },
        "id": "gsJr1XwjdtNQ",
        "outputId": "7a81a87e-e45b-4aa1-a880-67647fb04662"
      },
      "execution_count": 31,
      "outputs": [
        {
          "output_type": "stream",
          "name": "stdout",
          "text": [
            "  % Total    % Received % Xferd  Average Speed   Time    Time     Time  Current\n",
            "                                 Dload  Upload   Total   Spent    Left  Speed\n",
            "\r  0     0    0     0    0     0      0      0 --:--:-- --:--:-- --:--:--     0\r100   818  100   818    0     0  12584      0 --:--:-- --:--:-- --:--:-- 12584\n"
          ]
        }
      ]
    },
    {
      "cell_type": "code",
      "source": [
        "#個人notify\n",
        "token = \"a3XX2BB2Otm9umfF876FlLAoGOVFTWo8wyCkRLv7YB3\""
      ],
      "metadata": {
        "id": "S5M_I8ytf-md"
      },
      "execution_count": 34,
      "outputs": []
    },
    {
      "cell_type": "code",
      "source": [
        "from linenotify import Notify"
      ],
      "metadata": {
        "id": "2ajEaV2DgZ8x"
      },
      "execution_count": 35,
      "outputs": []
    },
    {
      "cell_type": "code",
      "source": [
        "Notify(token, \"悅悅最愛媽咪\")"
      ],
      "metadata": {
        "colab": {
          "base_uri": "https://localhost:8080/"
        },
        "id": "S3yzmTkHgeKN",
        "outputId": "ead47bd5-9fb6-4a12-bcae-276367b68a87"
      },
      "execution_count": 36,
      "outputs": [
        {
          "output_type": "execute_result",
          "data": {
            "text/plain": [
              "<Response [200]>"
            ]
          },
          "metadata": {},
          "execution_count": 36
        }
      ]
    },
    {
      "cell_type": "code",
      "source": [
        " Notify(token, \"測試\", 2, 147)"
      ],
      "metadata": {
        "colab": {
          "base_uri": "https://localhost:8080/"
        },
        "id": "8BS5bScUhyby",
        "outputId": "5c33fa09-3dd9-4e45-ffcd-1222e1e8ada3"
      },
      "execution_count": 46,
      "outputs": [
        {
          "output_type": "execute_result",
          "data": {
            "text/plain": [
              "<Response [200]>"
            ]
          },
          "metadata": {},
          "execution_count": 46
        }
      ]
    },
    {
      "cell_type": "code",
      "source": [
        "Notify(token, \"STKVER, STKID\", 2, 161)"
      ],
      "metadata": {
        "colab": {
          "base_uri": "https://localhost:8080/"
        },
        "id": "OBtsQ73Vjodh",
        "outputId": "36c38b01-0f81-4f36-8fd2-2640cf0c757f"
      },
      "execution_count": 47,
      "outputs": [
        {
          "output_type": "execute_result",
          "data": {
            "text/plain": [
              "<Response [200]>"
            ]
          },
          "metadata": {},
          "execution_count": 47
        }
      ]
    },
    {
      "cell_type": "code",
      "source": [
        "Notify(token, \"STKVER, STKID, 傳圖片\", 2, 155, img=\"長照4包錢.jpg\")"
      ],
      "metadata": {
        "colab": {
          "base_uri": "https://localhost:8080/"
        },
        "id": "iUeZlegDndHW",
        "outputId": "6f337640-f3e6-4317-8f25-7f66f5e43c11"
      },
      "execution_count": 49,
      "outputs": [
        {
          "output_type": "execute_result",
          "data": {
            "text/plain": [
              "<Response [200]>"
            ]
          },
          "metadata": {},
          "execution_count": 49
        }
      ]
    },
    {
      "cell_type": "markdown",
      "source": [
        "#容器型別(Container Types)\n",
        "* list(串列)==>[]\n",
        "* tuple(元組)==>()\n",
        "*dict(字典)==>{}\n",
        "* set(集合)==>{} 沒有重複的值\n"
      ],
      "metadata": {
        "id": "_iN6dKb6wcBJ"
      }
    },
    {
      "cell_type": "markdown",
      "source": [
        "#Ｍarkdown equation 的範例"
      ],
      "metadata": {
        "id": "J5N5runrxfxZ"
      }
    },
    {
      "cell_type": "markdown",
      "source": [
        "##list 練習"
      ],
      "metadata": {
        "id": "PPVKmmwJyb08"
      }
    },
    {
      "cell_type": "code",
      "source": [
        "x=list(\"abcde\")"
      ],
      "metadata": {
        "id": "aCB7OTZ3xp9i"
      },
      "execution_count": 54,
      "outputs": []
    },
    {
      "cell_type": "code",
      "source": [
        "x"
      ],
      "metadata": {
        "colab": {
          "base_uri": "https://localhost:8080/"
        },
        "id": "qjYdkLDkyJWc",
        "outputId": "f9e337bb-fb8b-435c-d79f-5ff02395e249"
      },
      "execution_count": 52,
      "outputs": [
        {
          "output_type": "execute_result",
          "data": {
            "text/plain": [
              "['a', 'b', 'c', 'd', 'e']"
            ]
          },
          "metadata": {},
          "execution_count": 52
        }
      ]
    },
    {
      "cell_type": "code",
      "source": [
        "x[2]"
      ],
      "metadata": {
        "colab": {
          "base_uri": "https://localhost:8080/",
          "height": 36
        },
        "id": "Tp90An8GyRBk",
        "outputId": "0ace19b4-eb1b-4ddc-b829-d1e3cf642a80"
      },
      "execution_count": 53,
      "outputs": [
        {
          "output_type": "execute_result",
          "data": {
            "text/plain": [
              "'c'"
            ],
            "application/vnd.google.colaboratory.intrinsic+json": {
              "type": "string"
            }
          },
          "metadata": {},
          "execution_count": 53
        }
      ]
    },
    {
      "cell_type": "markdown",
      "source": [
        "##索引的應用"
      ],
      "metadata": {
        "id": "udpCLbQE2OYF"
      }
    },
    {
      "cell_type": "code",
      "source": [
        "url = \"https://victorgau.github.io/khpy_web_intro/ninja.jpg\""
      ],
      "metadata": {
        "id": "gYQRTnQpyxHq"
      },
      "execution_count": 55,
      "outputs": []
    },
    {
      "cell_type": "code",
      "source": [
        "url[-9:]"
      ],
      "metadata": {
        "colab": {
          "base_uri": "https://localhost:8080/",
          "height": 36
        },
        "id": "xuCMTI0vzWMF",
        "outputId": "dd2eaca5-f222-4787-add3-da079c6dbf39"
      },
      "execution_count": 56,
      "outputs": [
        {
          "output_type": "execute_result",
          "data": {
            "text/plain": [
              "'ninja.jpg'"
            ],
            "application/vnd.google.colaboratory.intrinsic+json": {
              "type": "string"
            }
          },
          "metadata": {},
          "execution_count": 56
        }
      ]
    },
    {
      "cell_type": "code",
      "source": [
        "url.split(\"/\")"
      ],
      "metadata": {
        "colab": {
          "base_uri": "https://localhost:8080/"
        },
        "id": "TYyapKv9zgCu",
        "outputId": "f216bbf4-aa16-4be4-8756-86e14a54912c"
      },
      "execution_count": 59,
      "outputs": [
        {
          "output_type": "execute_result",
          "data": {
            "text/plain": [
              "['https:', '', 'victorgau.github.io', 'khpy_web_intro', 'ninja.jpg']"
            ]
          },
          "metadata": {},
          "execution_count": 59
        }
      ]
    },
    {
      "cell_type": "code",
      "source": [
        "url.split(\"/\")[-1]"
      ],
      "metadata": {
        "colab": {
          "base_uri": "https://localhost:8080/",
          "height": 36
        },
        "id": "5ft6uuPz0DmC",
        "outputId": "18298cd1-a455-4e1e-d085-35593429335e"
      },
      "execution_count": 58,
      "outputs": [
        {
          "output_type": "execute_result",
          "data": {
            "text/plain": [
              "'ninja.jpg'"
            ],
            "application/vnd.google.colaboratory.intrinsic+json": {
              "type": "string"
            }
          },
          "metadata": {},
          "execution_count": 58
        }
      ]
    },
    {
      "cell_type": "markdown",
      "source": [
        "##tuple 練習\n"
      ],
      "metadata": {
        "id": "gloxUshFzsJy"
      }
    },
    {
      "cell_type": "markdown",
      "source": [
        "##dic 練習\n"
      ],
      "metadata": {
        "id": "doSTmWh71wa4"
      }
    },
    {
      "cell_type": "code",
      "source": [
        "z = {}"
      ],
      "metadata": {
        "id": "m0xoNTnN0vwI"
      },
      "execution_count": 60,
      "outputs": []
    },
    {
      "cell_type": "code",
      "source": [
        "type(z)"
      ],
      "metadata": {
        "colab": {
          "base_uri": "https://localhost:8080/"
        },
        "id": "q6lU8Eud1uBN",
        "outputId": "1f9d5274-b4d3-4d61-f442-3583c8fe7ce0"
      },
      "execution_count": 61,
      "outputs": [
        {
          "output_type": "execute_result",
          "data": {
            "text/plain": [
              "dict"
            ]
          },
          "metadata": {},
          "execution_count": 61
        }
      ]
    },
    {
      "cell_type": "code",
      "source": [
        "z[\"cat\"]=\"貓咪\""
      ],
      "metadata": {
        "id": "Lif4pCco2SZV"
      },
      "execution_count": 62,
      "outputs": []
    },
    {
      "cell_type": "code",
      "source": [
        "z[\"dog\"]=\"狗狗\""
      ],
      "metadata": {
        "id": "ssbrcN6o2att"
      },
      "execution_count": 64,
      "outputs": []
    },
    {
      "cell_type": "code",
      "source": [
        "z[\"window\"]=\"窗戶\""
      ],
      "metadata": {
        "id": "Ri-nbxzx2i4e"
      },
      "execution_count": 66,
      "outputs": []
    },
    {
      "cell_type": "code",
      "source": [
        "z"
      ],
      "metadata": {
        "colab": {
          "base_uri": "https://localhost:8080/"
        },
        "id": "lS69wN2B2cZU",
        "outputId": "0f0af1a4-e7d3-4f5d-fa52-0af45d25e7b9"
      },
      "execution_count": 67,
      "outputs": [
        {
          "output_type": "execute_result",
          "data": {
            "text/plain": [
              "{'cat': '貓咪', 'dog': '狗狗', 'window': '窗戶'}"
            ]
          },
          "metadata": {},
          "execution_count": 67
        }
      ]
    },
    {
      "cell_type": "markdown",
      "source": [
        "##set練習"
      ],
      "metadata": {
        "id": "QMmi2R643xRX"
      }
    },
    {
      "cell_type": "code",
      "source": [
        ""
      ],
      "metadata": {
        "id": "aVZkfpbv30Q0"
      },
      "execution_count": null,
      "outputs": []
    }
  ]
}